{
 "cells": [
  {
   "cell_type": "markdown",
   "id": "abade233",
   "metadata": {},
   "source": [
    "### Make required imports"
   ]
  },
  {
   "cell_type": "code",
   "execution_count": 1,
   "id": "0df0249a",
   "metadata": {},
   "outputs": [],
   "source": [
    "import numpy as np\n",
    "import pandas as pd\n",
    "import matplotlib.pyplot as plt\n",
    "import warnings\n",
    "from sklearn.model_selection import train_test_split\n",
    "from interpret import show\n",
    "from interpret import data\n",
    "from interpret.glassbox import ExplainableBoostingRegressor, LinearRegression, RegressionTree\n",
    "from interpret.perf import RegressionPerf"
   ]
  },
  {
   "cell_type": "markdown",
   "id": "ecb6ae09",
   "metadata": {},
   "source": [
    "### Load dataframe and separate feature and target sets"
   ]
  },
  {
   "cell_type": "code",
   "execution_count": 2,
   "id": "639763ba",
   "metadata": {},
   "outputs": [
    {
     "name": "stdout",
     "output_type": "stream",
     "text": [
      "           time  COS_JFJ     NH_sst     SH_sst\n",
      "0    2000-01-07   444.18  12.305551  14.371146\n",
      "1    2000-01-08   435.34  12.273712  14.423678\n",
      "2    2000-01-11   435.61  12.221418  14.517519\n",
      "3    2000-01-12   431.03  12.208945  14.525194\n",
      "4    2000-01-13   434.76  12.200154  14.538042\n",
      "...         ...      ...        ...        ...\n",
      "1885 2018-09-26   437.56  15.888455  12.344624\n",
      "1886 2018-09-27   438.04  15.837394  12.360606\n",
      "1887 2018-09-28   433.50  15.800682  12.368045\n",
      "1888 2018-09-29   443.24  15.764831  12.371663\n",
      "1889 2018-09-30   437.52  15.745292  12.375092\n",
      "\n",
      "[1890 rows x 4 columns]\n"
     ]
    }
   ],
   "source": [
    "df = pd.read_pickle('COS_Seesaw_dataframe.pkl')\n",
    "print(df)\n",
    "columns = list(df.columns)\n",
    "if 'COS_JFJ' in columns:\n",
    "    columns.remove('COS_JFJ')\n",
    "else:\n",
    "    print('Error, target column not in dataframe')\n",
    "    quit()\n",
    "\n",
    "if 'time' in columns:\n",
    "    columns.remove('time')\n",
    "\n",
    "x = df[columns]\n",
    "y = df['COS_JFJ']"
   ]
  },
  {
   "cell_type": "markdown",
   "id": "ba31108a",
   "metadata": {},
   "source": [
    "### Make test train split, random seed is to ensure consistent results on multiple runs\n",
    "### change  seed value to get different split"
   ]
  },
  {
   "cell_type": "code",
   "execution_count": 3,
   "id": "01709783",
   "metadata": {},
   "outputs": [
    {
     "name": "stdout",
     "output_type": "stream",
     "text": [
      "1323\n",
      "1323\n",
      "567\n",
      "567\n"
     ]
    }
   ],
   "source": [
    "seed = 2\n",
    "X_train, X_test, y_train, y_test = train_test_split(x, y, test_size=0.3, random_state=seed)\n",
    "\n",
    "print(len(X_train))\n",
    "print(len(y_train))\n",
    "\n",
    "print(len(X_test))\n",
    "print(len(y_test))"
   ]
  },
  {
   "cell_type": "markdown",
   "id": "a8b8fb19",
   "metadata": {},
   "source": [
    "### Show Marginal"
   ]
  },
  {
   "cell_type": "code",
   "execution_count": 4,
   "id": "39e312ef",
   "metadata": {
    "scrolled": false
   },
   "outputs": [
    {
     "data": {
      "text/html": [
       "<!-- http://127.0.0.1:7001/139895868859152/ -->\n",
       "<iframe src=\"http://127.0.0.1:7001/139895868859152/\" width=100% height=800 frameBorder=\"0\"></iframe>"
      ]
     },
     "metadata": {},
     "output_type": "display_data"
    }
   ],
   "source": [
    "marginal = data.Marginal()\n",
    "marginal_explanation = marginal.explain_data(X_train, y_train)\n",
    "show(marginal_explanation)"
   ]
  },
  {
   "cell_type": "markdown",
   "id": "9114d30e",
   "metadata": {},
   "source": [
    "### Train Models"
   ]
  },
  {
   "cell_type": "code",
   "execution_count": 5,
   "id": "d6444a06",
   "metadata": {},
   "outputs": [
    {
     "data": {
      "text/plain": [
       "<interpret.glassbox.decisiontree.RegressionTree at 0x7f3beeb0d410>"
      ]
     },
     "execution_count": 5,
     "metadata": {},
     "output_type": "execute_result"
    }
   ],
   "source": [
    "ebm = ExplainableBoostingRegressor(random_state=seed, interactions=3)\n",
    "ebm.fit(X_train, y_train)\n",
    "\n",
    "lr = LinearRegression(random_state=seed)\n",
    "lr.fit(X_train, y_train)\n",
    "\n",
    "rt = RegressionTree(random_state=seed)\n",
    "rt.fit(X_train, y_train)"
   ]
  },
  {
   "cell_type": "markdown",
   "id": "419baf84",
   "metadata": {},
   "source": [
    "### What model learned"
   ]
  },
  {
   "cell_type": "code",
   "execution_count": 6,
   "id": "7a2a91e6",
   "metadata": {},
   "outputs": [],
   "source": [
    "ebm_global = ebm.explain_global(name='EBM')\n",
    "lr_global = lr.explain_global(name='Linear Regression')\n",
    "rt_global = rt.explain_global(name='Regression Tree')"
   ]
  },
  {
   "cell_type": "markdown",
   "id": "c8047c41",
   "metadata": {},
   "source": [
    "### Explanation of individul prediction"
   ]
  },
  {
   "cell_type": "code",
   "execution_count": 7,
   "id": "574e3501",
   "metadata": {},
   "outputs": [],
   "source": [
    "ebm_local = ebm.explain_local(X_test, y_test, name='EBM')\n",
    "lr_local = lr.explain_local(X_test, y_test, name='Linear Regression')\n",
    "rt_local = rt.explain_local(X_test, y_test, name='Regression Tree')"
   ]
  },
  {
   "cell_type": "markdown",
   "id": "d381cf70",
   "metadata": {},
   "source": [
    "### Evaluate performance"
   ]
  },
  {
   "cell_type": "code",
   "execution_count": 8,
   "id": "9022ccd0",
   "metadata": {},
   "outputs": [],
   "source": [
    "ebm_perf = RegressionPerf(ebm.predict).explain_perf(X_test, y_test, name='EBM')\n",
    "lr_perf = RegressionPerf(lr.predict).explain_perf(X_test, y_test, name='Linear Regression')\n",
    "rt_perf = RegressionPerf(rt.predict).explain_perf(X_test, y_test, name='Regression Tree')"
   ]
  },
  {
   "cell_type": "markdown",
   "id": "edf99a16",
   "metadata": {},
   "source": [
    "### Everything at once"
   ]
  },
  {
   "cell_type": "code",
   "execution_count": 9,
   "id": "58656331",
   "metadata": {
    "scrolled": false
   },
   "outputs": [
    {
     "data": {
      "text/html": [
       "<!-- http://127.0.0.1:7001/139895229645760/ -->\n",
       "<a href=\"http://127.0.0.1:7001/139895229645760/\" target=\"_new\">Open in new window</a><iframe src=\"http://127.0.0.1:7001/139895229645760/\" width=100% height=800 frameBorder=\"0\"></iframe>"
      ]
     },
     "metadata": {},
     "output_type": "display_data"
    }
   ],
   "source": [
    "show([marginal_explanation, lr_global, lr_perf, lr_local, rt_global, rt_perf, rt_local, ebm_global, ebm_perf, ebm_local])"
   ]
  },
  {
   "cell_type": "code",
   "execution_count": null,
   "id": "e86368e7",
   "metadata": {},
   "outputs": [],
   "source": []
  }
 ],
 "metadata": {
  "kernelspec": {
   "display_name": "Python 3",
   "language": "python",
   "name": "python3"
  },
  "language_info": {
   "codemirror_mode": {
    "name": "ipython",
    "version": 3
   },
   "file_extension": ".py",
   "mimetype": "text/x-python",
   "name": "python",
   "nbconvert_exporter": "python",
   "pygments_lexer": "ipython3",
   "version": "3.7.10"
  }
 },
 "nbformat": 4,
 "nbformat_minor": 5
}
