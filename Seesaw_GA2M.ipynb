{
 "cells": [
  {
   "cell_type": "markdown",
   "id": "abade233",
   "metadata": {},
   "source": [
    "### Make required imports"
   ]
  },
  {
   "cell_type": "code",
   "execution_count": 1,
   "id": "0df0249a",
   "metadata": {},
   "outputs": [],
   "source": [
    "import numpy as np\n",
    "import pandas as pd\n",
    "import matplotlib.pyplot as plt\n",
    "import warnings\n",
    "from sklearn.model_selection import train_test_split\n",
    "from interpret import show\n",
    "from interpret import data\n",
    "from interpret.glassbox import ExplainableBoostingRegressor, LinearRegression, RegressionTree\n",
    "from interpret.perf import RegressionPerf\n",
    "\n",
    "warnings.filterwarnings(\"ignore\")\n",
    "cos_target = 'COS_cgo'"
   ]
  },
  {
   "cell_type": "markdown",
   "id": "ecb6ae09",
   "metadata": {},
   "source": [
    "### Load dataframe and separate feature and target sets"
   ]
  },
  {
   "cell_type": "code",
   "execution_count": 2,
   "id": "639763ba",
   "metadata": {},
   "outputs": [
    {
     "name": "stdout",
     "output_type": "stream",
     "text": [
      "          time  COS_cgo     NH_sal     SH_sal     NH_mld     SH_mld  \\\n",
      "4   2000-04-06    495.8  33.786403  34.695698  41.293368  54.789488   \n",
      "5   2000-04-14    489.4  33.786403  34.695698  41.293368  54.789488   \n",
      "6   2000-06-07    492.1  33.620748  34.750088  27.004949  79.032309   \n",
      "7   2000-06-13    473.4  33.620748  34.750088  27.004949  79.032309   \n",
      "8   2000-06-22    473.5  33.620748  34.750088  27.004949  79.032309   \n",
      "..         ...      ...        ...        ...        ...        ...   \n",
      "639 2018-09-19    477.9  33.306424  34.787498  27.443176  90.095546   \n",
      "640 2018-09-28    470.2  33.306424  34.787498  27.443176  90.095546   \n",
      "641 2018-11-07    483.6  33.473787  34.762569  40.258967  47.271023   \n",
      "642 2018-11-14    485.1  33.473787  34.762569  40.258967  47.271023   \n",
      "643 2018-11-23    486.2  33.473787  34.762569  40.258967  47.271023   \n",
      "\n",
      "        NH_sst     SH_sst  NH_sst-3m  NH_sst-2m  ...  SH_sst-2m  SH_sst-1m  \\\n",
      "4    12.102266  14.708376  12.321572  11.899088  ...  15.088497  15.101149   \n",
      "5    12.238936  14.623315  12.188755  11.856175  ...  15.152887  15.040163   \n",
      "6    13.691157  13.149577  11.858768  12.117429  ...  14.700656  13.856559   \n",
      "7    13.930488  13.006068  11.884789  12.236921  ...  14.633565  13.708549   \n",
      "8    14.322808  12.789742  12.001824  12.380201  ...  14.372809  13.538857   \n",
      "..         ...        ...        ...        ...  ...        ...        ...   \n",
      "639  16.068018  12.249462  14.348673  15.446664  ...  12.567507  12.300649   \n",
      "640  15.800682  12.368045  14.687468  15.801668  ...  12.480263  12.246245   \n",
      "641  14.474536  12.972109  16.050676  16.248222  ...  12.231079  12.492783   \n",
      "642  14.226390  13.193588  16.219467  16.147058  ...  12.244484  12.527831   \n",
      "643  13.903728  13.444789  16.310354  15.985275  ...  12.302871  12.678656   \n",
      "\n",
      "      NH_cdom   SH_cdom  NH_cdom-3m  NH_cdom-2m  NH_cdom-1m  SH_cdom-3m  \\\n",
      "4    0.073047  0.045066    0.063573    0.069464    0.072940    0.054193   \n",
      "5    0.074135  0.044582    0.064734    0.071010    0.072723    0.054054   \n",
      "6    0.068759  0.047603    0.072931    0.073168    0.075046    0.049402   \n",
      "7    0.068127  0.048745    0.072763    0.073991    0.074050    0.048390   \n",
      "8    0.068106  0.050596    0.072434    0.075156    0.072039    0.046902   \n",
      "..        ...       ...         ...         ...         ...         ...   \n",
      "639  0.078283  0.061415    0.087463    0.091713    0.089432    0.056369   \n",
      "640  0.074999  0.063471    0.088561    0.092328    0.086706    0.057056   \n",
      "641  0.067963  0.065772    0.091799    0.083022    0.072338    0.054073   \n",
      "642  0.067727  0.065233    0.090619    0.080250    0.070759    0.054373   \n",
      "643  0.067680  0.064274    0.088305    0.076768    0.069284    0.055395   \n",
      "\n",
      "     SH_cdom-2m  SH_cdom-1m  \n",
      "4      0.052978    0.049567  \n",
      "5      0.052300    0.048220  \n",
      "6      0.044988    0.044553  \n",
      "7      0.044625    0.044799  \n",
      "8      0.044382    0.045434  \n",
      "..          ...         ...  \n",
      "639    0.055514    0.054858  \n",
      "640    0.054492    0.056237  \n",
      "641    0.058410    0.064977  \n",
      "642    0.060159    0.065704  \n",
      "643    0.062376    0.066131  \n",
      "\n",
      "[640 rows x 22 columns]\n"
     ]
    }
   ],
   "source": [
    "df = pd.read_pickle('COS_Seesaw_dataframe.pkl')\n",
    "print(df)\n",
    "columns = list(df.columns)\n",
    "if cos_target in columns:\n",
    "    columns.remove(cos_target)\n",
    "else:\n",
    "    print('Error, target column not in dataframe')\n",
    "    quit()\n",
    "    \n",
    "x = df[columns]\n",
    "y = df[cos_target]"
   ]
  },
  {
   "cell_type": "markdown",
   "id": "ba31108a",
   "metadata": {},
   "source": [
    "### Make test train split, random seed is to ensure consistent results on multiple runs\n",
    "### change  seed value to get different split"
   ]
  },
  {
   "cell_type": "code",
   "execution_count": 3,
   "id": "01709783",
   "metadata": {
    "scrolled": true
   },
   "outputs": [],
   "source": [
    "seed = 2\n",
    "X_train, X_test, y_train, y_test = train_test_split(x, y, test_size=0.3, random_state=seed)\n",
    "\n",
    "# set up for predicted vs actual plot\n",
    "# sorting the test set should not matter since we are not using it to train\n",
    "X_test = X_test.sort_index()\n",
    "y_test = y_test.sort_index()\n",
    "\n",
    "test_time = X_test['time']\n",
    "X_test.drop(axis=1, labels='time', inplace=True)\n",
    "\n",
    "#drop time in X_train\n",
    "X_train.drop(axis=1, labels='time', inplace=True)"
   ]
  },
  {
   "cell_type": "markdown",
   "id": "a8b8fb19",
   "metadata": {},
   "source": [
    "### Show Marginal"
   ]
  },
  {
   "cell_type": "code",
   "execution_count": 4,
   "id": "39e312ef",
   "metadata": {
    "scrolled": false
   },
   "outputs": [
    {
     "data": {
      "text/html": [
       "<!-- http://127.0.0.1:7001/140598895335936/ -->\n",
       "<iframe src=\"http://127.0.0.1:7001/140598895335936/\" width=100% height=800 frameBorder=\"0\"></iframe>"
      ]
     },
     "metadata": {},
     "output_type": "display_data"
    }
   ],
   "source": [
    "marginal = data.Marginal()\n",
    "marginal_explanation = marginal.explain_data(X_train, y_train)\n",
    "show(marginal_explanation)"
   ]
  },
  {
   "cell_type": "markdown",
   "id": "9114d30e",
   "metadata": {},
   "source": [
    "### Train Models"
   ]
  },
  {
   "cell_type": "code",
   "execution_count": 5,
   "id": "d6444a06",
   "metadata": {},
   "outputs": [
    {
     "data": {
      "text/plain": [
       "<interpret.glassbox.decisiontree.RegressionTree at 0x7fdf9e8e7250>"
      ]
     },
     "execution_count": 5,
     "metadata": {},
     "output_type": "execute_result"
    }
   ],
   "source": [
    "ebm = ExplainableBoostingRegressor(random_state=seed, interactions=3)\n",
    "ebm.fit(X_train, y_train)\n",
    "\n",
    "lr = LinearRegression(random_state=seed)\n",
    "lr.fit(X_train, y_train)\n",
    "\n",
    "rt = RegressionTree(random_state=seed)\n",
    "rt.fit(X_train, y_train)"
   ]
  },
  {
   "cell_type": "markdown",
   "id": "419baf84",
   "metadata": {},
   "source": [
    "### What model learned"
   ]
  },
  {
   "cell_type": "code",
   "execution_count": 6,
   "id": "7a2a91e6",
   "metadata": {},
   "outputs": [],
   "source": [
    "ebm_global = ebm.explain_global(name='EBM')\n",
    "lr_global = lr.explain_global(name='Linear Regression')\n",
    "rt_global = rt.explain_global(name='Regression Tree')"
   ]
  },
  {
   "cell_type": "markdown",
   "id": "c8047c41",
   "metadata": {},
   "source": [
    "### Explanation of individul prediction"
   ]
  },
  {
   "cell_type": "code",
   "execution_count": 7,
   "id": "574e3501",
   "metadata": {},
   "outputs": [],
   "source": [
    "ebm_local = ebm.explain_local(X_test, y_test, name='EBM')\n",
    "lr_local = lr.explain_local(X_test, y_test, name='Linear Regression')\n",
    "rt_local = rt.explain_local(X_test, y_test, name='Regression Tree')"
   ]
  },
  {
   "cell_type": "markdown",
   "id": "d381cf70",
   "metadata": {},
   "source": [
    "### Evaluate performance"
   ]
  },
  {
   "cell_type": "code",
   "execution_count": 8,
   "id": "9022ccd0",
   "metadata": {},
   "outputs": [],
   "source": [
    "ebm_perf = RegressionPerf(ebm.predict).explain_perf(X_test, y_test, name='EBM')\n",
    "lr_perf = RegressionPerf(lr.predict).explain_perf(X_test, y_test, name='Linear Regression')\n",
    "rt_perf = RegressionPerf(rt.predict).explain_perf(X_test, y_test, name='Regression Tree')"
   ]
  },
  {
   "cell_type": "markdown",
   "id": "edf99a16",
   "metadata": {},
   "source": [
    "### Everything at once"
   ]
  },
  {
   "cell_type": "code",
   "execution_count": 9,
   "id": "58656331",
   "metadata": {
    "scrolled": false
   },
   "outputs": [
    {
     "data": {
      "text/html": [
       "<!-- http://127.0.0.1:7001/140598389722176/ -->\n",
       "<a href=\"http://127.0.0.1:7001/140598389722176/\" target=\"_new\">Open in new window</a><iframe src=\"http://127.0.0.1:7001/140598389722176/\" width=100% height=800 frameBorder=\"0\"></iframe>"
      ]
     },
     "metadata": {},
     "output_type": "display_data"
    }
   ],
   "source": [
    "show([marginal_explanation, lr_global, lr_perf, lr_local, rt_global, rt_perf, rt_local, ebm_global, ebm_perf, ebm_local])"
   ]
  },
  {
   "cell_type": "code",
   "execution_count": 10,
   "id": "e86368e7",
   "metadata": {
    "scrolled": false
   },
   "outputs": [
    {
     "data": {
      "image/png": "[encoded data removed]",
      "text/plain": [
       "<Figure size 1152x576 with 1 Axes>"
      ]
     },
     "metadata": {
      "needs_background": "light"
     },
     "output_type": "display_data"
    }
   ],
   "source": [
    "predicted = ebm.predict(X_test)\n",
    "fig, ax = plt.subplots(figsize=(16,8))\n",
    "ax.plot(test_time, predicted, 'o',  label='predicted')\n",
    "ax.plot(test_time, y_test, '^', label='actual')\n",
    "ax.set_title(\"Predicted vs. Actual\")\n",
    "ax.set_xlabel('Time')\n",
    "ax.set_ylabel('COS_cgo')\n",
    "plt.legend()\n",
    "plt.show()\n",
    "fig.savefig('predictedVsActualOverTime.png')"
   ]
  },
  {
   "cell_type": "code",
   "execution_count": null,
   "id": "10432245",
   "metadata": {},
   "outputs": [],
   "source": []
  }
 ],
 "metadata": {
  "kernelspec": {
   "display_name": "Python 3",
   "language": "python",
   "name": "python3"
  },
  "language_info": {
   "codemirror_mode": {
    "name": "ipython",
    "version": 3
   },
   "file_extension": ".py",
   "mimetype": "text/x-python",
   "name": "python",
   "nbconvert_exporter": "python",
   "pygments_lexer": "ipython3",
   "version": "3.8.10"
  }
 },
 "nbformat": 4,
 "nbformat_minor": 5
}
