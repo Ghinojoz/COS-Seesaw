{
 "cells": [
  {
   "cell_type": "markdown",
   "id": "abade233",
   "metadata": {},
   "source": [
    "### Make required imports"
   ]
  },
  {
   "cell_type": "code",
   "execution_count": 1,
   "id": "0df0249a",
   "metadata": {},
   "outputs": [],
   "source": [
    "import numpy as np\n",
    "import pandas as pd\n",
    "import matplotlib.pyplot as plt\n",
    "import warnings\n",
    "from sklearn.model_selection import train_test_split\n",
    "from interpret import show\n",
    "from interpret import data\n",
    "from interpret.glassbox import ExplainableBoostingRegressor, LinearRegression, RegressionTree\n",
    "from interpret.perf import RegressionPerf\n",
    "\n",
    "warnings.filterwarnings(\"ignore\")\n",
    "cos_target = 'COS_cgo'"
   ]
  },
  {
   "cell_type": "markdown",
   "id": "ecb6ae09",
   "metadata": {},
   "source": [
    "### Load dataframe and separate feature and target sets"
   ]
  },
  {
   "cell_type": "code",
   "execution_count": 2,
   "id": "639763ba",
   "metadata": {},
   "outputs": [
    {
     "name": "stdout",
     "output_type": "stream",
     "text": [
      "          time  COS_cgo     NH_sst     SH_sst  NH_sst-3m  NH_sst-2m  \\\n",
      "4   2000-04-06    495.8  12.102266  14.708376  12.321572  11.899088   \n",
      "5   2000-04-14    489.4  12.238936  14.623315  12.188755  11.856175   \n",
      "6   2000-06-07    492.1  13.691157  13.149577  11.858768  12.117429   \n",
      "7   2000-06-13    473.4  13.930488  13.006068  11.884789  12.236921   \n",
      "8   2000-06-22    473.5  14.322808  12.789742  12.001824  12.380201   \n",
      "..         ...      ...        ...        ...        ...        ...   \n",
      "642 2018-11-14    485.1  14.226390  13.193588  16.219467  16.147058   \n",
      "643 2018-11-23    486.2  13.903728  13.444789  16.310354  15.985275   \n",
      "644 2018-12-10    499.9  13.393921  13.930911  16.193851  15.437435   \n",
      "645 2018-12-10    503.3  13.393921  13.930911  16.193851  15.437435   \n",
      "646 2018-12-17    507.2  13.160060  14.112185  16.106665  15.210451   \n",
      "\n",
      "     NH_sst-1m  SH_sst-3m  SH_sst-2m  SH_sst-1m  \n",
      "4    11.855376  14.329835  15.088497  15.101149  \n",
      "5    11.894365  14.549086  15.152887  15.040163  \n",
      "6    12.823286  15.081848  14.700656  13.856559  \n",
      "7    12.944084  15.044751  14.633565  13.708549  \n",
      "8    13.196233  14.959957  14.372809  13.538857  \n",
      "..         ...        ...        ...        ...  \n",
      "642  15.313224  12.288027  12.244484  12.527831  \n",
      "643  14.995556  12.275270  12.302871  12.678656  \n",
      "644  14.373887  12.232983  12.530086  13.043010  \n",
      "645  14.373887  12.232983  12.530086  13.043010  \n",
      "646  14.111735  12.240094  12.551693  13.267805  \n",
      "\n",
      "[643 rows x 10 columns]\n"
     ]
    }
   ],
   "source": [
    "df = pd.read_pickle('COS_Seesaw_dataframe.pkl')\n",
    "print(df)\n",
    "columns = list(df.columns)\n",
    "if cos_target in columns:\n",
    "    columns.remove(cos_target)\n",
    "else:\n",
    "    print('Error, target column not in dataframe')\n",
    "    quit()\n",
    "    \n",
    "x = df[columns]\n",
    "y = df[cos_target]"
   ]
  },
  {
   "cell_type": "markdown",
   "id": "ba31108a",
   "metadata": {},
   "source": [
    "### Make test train split, random seed is to ensure consistent results on multiple runs\n",
    "### change  seed value to get different split"
   ]
  },
  {
   "cell_type": "code",
   "execution_count": 3,
   "id": "01709783",
   "metadata": {
    "scrolled": true
   },
   "outputs": [],
   "source": [
    "seed = 2\n",
    "X_train, X_test, y_train, y_test = train_test_split(x, y, test_size=0.3, random_state=seed)\n",
    "\n",
    "# set up for predicted vs actual plot\n",
    "# sorting the test set should not matter since we are not using it to train\n",
    "X_test = X_test.sort_index()\n",
    "y_test = y_test.sort_index()\n",
    "\n",
    "test_time = X_test['time']\n",
    "X_test.drop(axis=1, labels='time', inplace=True)\n",
    "\n",
    "#drop time in X_train\n",
    "X_train.drop(axis=1, labels='time', inplace=True)"
   ]
  },
  {
   "cell_type": "markdown",
   "id": "a8b8fb19",
   "metadata": {},
   "source": [
    "### Show Marginal"
   ]
  },
  {
   "cell_type": "code",
   "execution_count": 4,
   "id": "39e312ef",
   "metadata": {
    "scrolled": false
   },
   "outputs": [
    {
     "data": {
      "text/html": [
       "<!-- http://127.0.0.1:7001/140159146183168/ -->\n",
       "<iframe src=\"http://127.0.0.1:7001/140159146183168/\" width=100% height=800 frameBorder=\"0\"></iframe>"
      ]
     },
     "metadata": {},
     "output_type": "display_data"
    }
   ],
   "source": [
    "marginal = data.Marginal()\n",
    "marginal_explanation = marginal.explain_data(X_train, y_train)\n",
    "show(marginal_explanation)"
   ]
  },
  {
   "cell_type": "markdown",
   "id": "9114d30e",
   "metadata": {},
   "source": [
    "### Train Models"
   ]
  },
  {
   "cell_type": "code",
   "execution_count": 5,
   "id": "d6444a06",
   "metadata": {},
   "outputs": [
    {
     "data": {
      "text/plain": [
       "<interpret.glassbox.decisiontree.RegressionTree at 0x7f7926bb0f10>"
      ]
     },
     "execution_count": 5,
     "metadata": {},
     "output_type": "execute_result"
    }
   ],
   "source": [
    "ebm = ExplainableBoostingRegressor(random_state=seed, interactions=3)\n",
    "ebm.fit(X_train, y_train)\n",
    "\n",
    "lr = LinearRegression(random_state=seed)\n",
    "lr.fit(X_train, y_train)\n",
    "\n",
    "rt = RegressionTree(random_state=seed)\n",
    "rt.fit(X_train, y_train)"
   ]
  },
  {
   "cell_type": "markdown",
   "id": "419baf84",
   "metadata": {},
   "source": [
    "### What model learned"
   ]
  },
  {
   "cell_type": "code",
   "execution_count": 6,
   "id": "7a2a91e6",
   "metadata": {},
   "outputs": [],
   "source": [
    "ebm_global = ebm.explain_global(name='EBM')\n",
    "lr_global = lr.explain_global(name='Linear Regression')\n",
    "rt_global = rt.explain_global(name='Regression Tree')"
   ]
  },
  {
   "cell_type": "markdown",
   "id": "c8047c41",
   "metadata": {},
   "source": [
    "### Explanation of individul prediction"
   ]
  },
  {
   "cell_type": "code",
   "execution_count": 7,
   "id": "574e3501",
   "metadata": {},
   "outputs": [],
   "source": [
    "ebm_local = ebm.explain_local(X_test, y_test, name='EBM')\n",
    "lr_local = lr.explain_local(X_test, y_test, name='Linear Regression')\n",
    "rt_local = rt.explain_local(X_test, y_test, name='Regression Tree')"
   ]
  },
  {
   "cell_type": "markdown",
   "id": "d381cf70",
   "metadata": {},
   "source": [
    "### Evaluate performance"
   ]
  },
  {
   "cell_type": "code",
   "execution_count": 8,
   "id": "9022ccd0",
   "metadata": {},
   "outputs": [],
   "source": [
    "ebm_perf = RegressionPerf(ebm.predict).explain_perf(X_test, y_test, name='EBM')\n",
    "lr_perf = RegressionPerf(lr.predict).explain_perf(X_test, y_test, name='Linear Regression')\n",
    "rt_perf = RegressionPerf(rt.predict).explain_perf(X_test, y_test, name='Regression Tree')"
   ]
  },
  {
   "cell_type": "markdown",
   "id": "edf99a16",
   "metadata": {},
   "source": [
    "### Everything at once"
   ]
  },
  {
   "cell_type": "code",
   "execution_count": 9,
   "id": "58656331",
   "metadata": {
    "scrolled": false
   },
   "outputs": [
    {
     "data": {
      "text/html": [
       "<!-- http://127.0.0.1:7001/140158306236736/ -->\n",
       "<a href=\"http://127.0.0.1:7001/140158306236736/\" target=\"_new\">Open in new window</a><iframe src=\"http://127.0.0.1:7001/140158306236736/\" width=100% height=800 frameBorder=\"0\"></iframe>"
      ]
     },
     "metadata": {},
     "output_type": "display_data"
    }
   ],
   "source": [
    "show([marginal_explanation, lr_global, lr_perf, lr_local, rt_global, rt_perf, rt_local, ebm_global, ebm_perf, ebm_local])"
   ]
  },
  {
   "cell_type": "code",
   "execution_count": 10,
   "id": "e86368e7",
   "metadata": {
    "scrolled": false
   },
   "outputs": [
    {
     "data": {
      "image/png": "[encoded data removed]",
      "text/plain": [
       "<Figure size 1152x576 with 1 Axes>"
      ]
     },
     "metadata": {
      "needs_background": "light"
     },
     "output_type": "display_data"
    }
   ],
   "source": [
    "predicted = ebm.predict(X_test)\n",
    "fig, ax = plt.subplots(figsize=(16,8))\n",
    "ax.plot(test_time, predicted, 'o',  label='predicted')\n",
    "ax.plot(test_time, y_test, '^', label='actual')\n",
    "ax.set_title(\"Predicted vs. Actual\")\n",
    "ax.set_xlabel('Time')\n",
    "ax.set_ylabel('COS_cgo')\n",
    "plt.legend()\n",
    "plt.show()\n",
    "fig.savefig('predictedVsActualOverTime.png')"
   ]
  },
  {
   "cell_type": "code",
   "execution_count": null,
   "id": "10432245",
   "metadata": {},
   "outputs": [],
   "source": []
  }
 ],
 "metadata": {
  "kernelspec": {
   "display_name": "Python 3",
   "language": "python",
   "name": "python3"
  },
  "language_info": {
   "codemirror_mode": {
    "name": "ipython",
    "version": 3
   },
   "file_extension": ".py",
   "mimetype": "text/x-python",
   "name": "python",
   "nbconvert_exporter": "python",
   "pygments_lexer": "ipython3",
   "version": "3.8.10"
  }
 },
 "nbformat": 4,
 "nbformat_minor": 5
}
