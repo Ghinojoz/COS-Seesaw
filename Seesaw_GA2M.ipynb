{
 "cells": [
  {
   "cell_type": "markdown",
   "id": "abade233",
   "metadata": {},
   "source": [
    "### Make required imports"
   ]
  },
  {
   "cell_type": "code",
   "execution_count": 1,
   "id": "0df0249a",
   "metadata": {},
   "outputs": [],
   "source": [
    "import numpy as np\n",
    "import pandas as pd\n",
    "import matplotlib.pyplot as plt\n",
    "import warnings\n",
    "from sklearn.model_selection import train_test_split\n",
    "from interpret import show\n",
    "from interpret import data\n",
    "from interpret.glassbox import ExplainableBoostingRegressor, LinearRegression, RegressionTree\n",
    "from interpret.perf import RegressionPerf\n",
    "\n",
    "warnings.filterwarnings(\"ignore\")"
   ]
  },
  {
   "cell_type": "markdown",
   "id": "ecb6ae09",
   "metadata": {},
   "source": [
    "### Load dataframe and separate feature and target sets"
   ]
  },
  {
   "cell_type": "code",
   "execution_count": 2,
   "id": "639763ba",
   "metadata": {},
   "outputs": [
    {
     "name": "stdout",
     "output_type": "stream",
     "text": [
      "           time  COS_JFJ     NH_sst     SH_sst  NH_sst-2m  SH_sst-2m\n",
      "21   2000-03-02   447.77  11.830271  15.141506  12.369363  14.211244\n",
      "22   2000-03-05   454.99  11.848338  15.112172  12.336472  14.296056\n",
      "23   2000-03-06   450.81  11.855376  15.101149  12.321572  14.329835\n",
      "24   2000-03-07   453.45  11.858768  15.081848  12.305551  14.371146\n",
      "25   2000-03-11   451.90  11.862728  15.062534  12.221418  14.517519\n",
      "...         ...      ...        ...        ...        ...        ...\n",
      "1885 2018-09-26   437.56  15.888455  12.344624  15.698779  12.490609\n",
      "1886 2018-09-27   438.04  15.837394  12.360606  15.747860  12.488142\n",
      "1887 2018-09-28   433.50  15.800682  12.368045  15.801668  12.480263\n",
      "1888 2018-09-29   443.24  15.764831  12.371663  15.844060  12.468072\n",
      "1889 2018-09-30   437.52  15.745292  12.375092  15.878586  12.461205\n",
      "\n",
      "[1869 rows x 6 columns]\n"
     ]
    },
    {
     "ename": "NameError",
     "evalue": "name 'x_plot' is not defined",
     "output_type": "error",
     "traceback": [
      "\u001b[0;31m---------------------------------------------------------------------------\u001b[0m",
      "\u001b[0;31mNameError\u001b[0m                                 Traceback (most recent call last)",
      "\u001b[0;32m<ipython-input-2-f074e12f464c>\u001b[0m in \u001b[0;36m<module>\u001b[0;34m\u001b[0m\n\u001b[1;32m     10\u001b[0m \u001b[0mx\u001b[0m \u001b[0;34m=\u001b[0m \u001b[0mdf\u001b[0m\u001b[0;34m[\u001b[0m\u001b[0mcolumns\u001b[0m\u001b[0;34m]\u001b[0m\u001b[0;34m\u001b[0m\u001b[0;34m\u001b[0m\u001b[0m\n\u001b[1;32m     11\u001b[0m \u001b[0my\u001b[0m \u001b[0;34m=\u001b[0m \u001b[0mdf\u001b[0m\u001b[0;34m[\u001b[0m\u001b[0;34m'COS_JFJ'\u001b[0m\u001b[0;34m]\u001b[0m\u001b[0;34m\u001b[0m\u001b[0;34m\u001b[0m\u001b[0m\n\u001b[0;32m---> 12\u001b[0;31m \u001b[0mplot_time\u001b[0m \u001b[0;34m=\u001b[0m \u001b[0mx_plot\u001b[0m\u001b[0;34m[\u001b[0m\u001b[0;34m'time'\u001b[0m\u001b[0;34m]\u001b[0m\u001b[0;34m\u001b[0m\u001b[0;34m\u001b[0m\u001b[0m\n\u001b[0m\u001b[1;32m     13\u001b[0m \u001b[0mx_plot\u001b[0m \u001b[0;34m=\u001b[0m \u001b[0mx\u001b[0m\u001b[0;34m.\u001b[0m\u001b[0mdrop\u001b[0m\u001b[0;34m(\u001b[0m\u001b[0maxis\u001b[0m\u001b[0;34m=\u001b[0m\u001b[0;36m1\u001b[0m\u001b[0;34m,\u001b[0m \u001b[0mlabels\u001b[0m\u001b[0;34m=\u001b[0m\u001b[0;34m'time'\u001b[0m\u001b[0;34m)\u001b[0m\u001b[0;34m\u001b[0m\u001b[0;34m\u001b[0m\u001b[0m\n\u001b[1;32m     14\u001b[0m \u001b[0my_plot\u001b[0m \u001b[0;34m=\u001b[0m \u001b[0my\u001b[0m\u001b[0;34m\u001b[0m\u001b[0;34m\u001b[0m\u001b[0m\n",
      "\u001b[0;31mNameError\u001b[0m: name 'x_plot' is not defined"
     ]
    }
   ],
   "source": [
    "df = pd.read_pickle('COS_Seesaw_dataframe.pkl')\n",
    "print(df)\n",
    "columns = list(df.columns)\n",
    "if 'COS_JFJ' in columns:\n",
    "    columns.remove('COS_JFJ')\n",
    "else:\n",
    "    print('Error, target column not in dataframe')\n",
    "    quit()\n",
    "    \n",
    "x = df[columns]\n",
    "y = df['COS_JFJ']\n",
    "plot_time = x_plot['time']\n",
    "x_plot = x.drop(axis=1, labels='time')\n",
    "y_plot = y"
   ]
  },
  {
   "cell_type": "markdown",
   "id": "ba31108a",
   "metadata": {},
   "source": [
    "### Make test train split, random seed is to ensure consistent results on multiple runs\n",
    "### change  seed value to get different split"
   ]
  },
  {
   "cell_type": "code",
   "execution_count": null,
   "id": "01709783",
   "metadata": {
    "scrolled": true
   },
   "outputs": [],
   "source": [
    "seed = 2\n",
    "X_train, X_test, y_train, y_test = train_test_split(x, y, test_size=0.3, random_state=seed)\n",
    "\n",
    "# set up for preicted vs actual plot\n",
    "# sorting the test set should not matter since we are not using it to train\n",
    "X_test = X_test.sort_index()\n",
    "y_test = y_test.sort_index()\n",
    "test_time = X_test['time']\n",
    "X_test.drop(axis=1, labels='time', inplace=True)\n",
    "\n",
    "#drop time in X_train\n",
    "X_train.drop(axis=1, labels='time', inplace=True)"
   ]
  },
  {
   "cell_type": "markdown",
   "id": "a8b8fb19",
   "metadata": {},
   "source": [
    "### Show Marginal"
   ]
  },
  {
   "cell_type": "code",
   "execution_count": null,
   "id": "39e312ef",
   "metadata": {
    "scrolled": false
   },
   "outputs": [],
   "source": [
    "marginal = data.Marginal()\n",
    "marginal_explanation = marginal.explain_data(X_train, y_train)\n",
    "show(marginal_explanation)"
   ]
  },
  {
   "cell_type": "markdown",
   "id": "9114d30e",
   "metadata": {},
   "source": [
    "### Train Models"
   ]
  },
  {
   "cell_type": "code",
   "execution_count": null,
   "id": "d6444a06",
   "metadata": {},
   "outputs": [],
   "source": [
    "ebm = ExplainableBoostingRegressor(random_state=seed, interactions=3)\n",
    "ebm.fit(X_train, y_train)\n",
    "\n",
    "lr = LinearRegression(random_state=seed)\n",
    "lr.fit(X_train, y_train)\n",
    "\n",
    "rt = RegressionTree(random_state=seed)\n",
    "rt.fit(X_train, y_train)"
   ]
  },
  {
   "cell_type": "markdown",
   "id": "419baf84",
   "metadata": {},
   "source": [
    "### What model learned"
   ]
  },
  {
   "cell_type": "code",
   "execution_count": null,
   "id": "7a2a91e6",
   "metadata": {},
   "outputs": [],
   "source": [
    "ebm_global = ebm.explain_global(name='EBM')\n",
    "lr_global = lr.explain_global(name='Linear Regression')\n",
    "rt_global = rt.explain_global(name='Regression Tree')"
   ]
  },
  {
   "cell_type": "markdown",
   "id": "c8047c41",
   "metadata": {},
   "source": [
    "### Explanation of individul prediction"
   ]
  },
  {
   "cell_type": "code",
   "execution_count": null,
   "id": "574e3501",
   "metadata": {},
   "outputs": [],
   "source": [
    "ebm_local = ebm.explain_local(X_test, y_test, name='EBM')\n",
    "lr_local = lr.explain_local(X_test, y_test, name='Linear Regression')\n",
    "rt_local = rt.explain_local(X_test, y_test, name='Regression Tree')"
   ]
  },
  {
   "cell_type": "markdown",
   "id": "d381cf70",
   "metadata": {},
   "source": [
    "### Evaluate performance"
   ]
  },
  {
   "cell_type": "code",
   "execution_count": null,
   "id": "9022ccd0",
   "metadata": {},
   "outputs": [],
   "source": [
    "ebm_perf = RegressionPerf(ebm.predict).explain_perf(X_test, y_test, name='EBM')\n",
    "lr_perf = RegressionPerf(lr.predict).explain_perf(X_test, y_test, name='Linear Regression')\n",
    "rt_perf = RegressionPerf(rt.predict).explain_perf(X_test, y_test, name='Regression Tree')"
   ]
  },
  {
   "cell_type": "markdown",
   "id": "edf99a16",
   "metadata": {},
   "source": [
    "### Everything at once"
   ]
  },
  {
   "cell_type": "code",
   "execution_count": null,
   "id": "58656331",
   "metadata": {
    "scrolled": false
   },
   "outputs": [],
   "source": [
    "show([marginal_explanation, lr_global, lr_perf, lr_local, rt_global, rt_perf, rt_local, ebm_global, ebm_perf, ebm_local])"
   ]
  },
  {
   "cell_type": "code",
   "execution_count": null,
   "id": "e86368e7",
   "metadata": {},
   "outputs": [],
   "source": [
    "'''\n",
    "predicted = ebm.predict(X_test)\n",
    "fig, ax = plt.subplots(figsize=(8,8))\n",
    "ax.scatter(y_test, predicted, label='predicted vs. actual')\n",
    "ax.set_title(\"predicted vs. actual\")\n",
    "ax.set_xlabel(\"actual\")\n",
    "ax.set_ylabel(\"predicted\")\n",
    "ax.set_xlim([400, 550])\n",
    "ax.set_ylim([400, 550])\n",
    "ax.plot([0,1],[0,1], transform=ax.transAxes, ls='--', color='red')\n",
    "plt.legend()\n",
    "plt.show()\n",
    "fig.savefig('predictedVsActual.png')\n",
    "\n",
    "\n",
    "predicted = ebm.predict(X_test)\n",
    "fig, ax = plt.subplots(figsize=(16,8))\n",
    "ax.plot(test_time, predicted, label='predicted')\n",
    "ax.plot(test_time, y_test, label='actual')\n",
    "ax.set_title(\"Predicted vs. Actual\")\n",
    "ax.set_xlabel('Time')\n",
    "ax.set_ylabel('COS_JFJ')\n",
    "plt.legend()\n",
    "plt.show()\n",
    "fig.savefig('predictedVsActualOverTime.png')\n",
    "'''\n",
    "predicted = ebm.predict(x_plot)\n",
    "fig, ax = plt.subplots(figsize=(16,8))\n",
    "ax.plot(plot_time, predicted, label='predicted')\n",
    "ax.plot(plot_time, y_plot, label='actual')\n",
    "ax.set_title(\"Predicted vs. Actual\")\n",
    "ax.set_xlabel('Time')\n",
    "ax.set_ylabel('COS_JFJ')\n",
    "plt.legend()\n",
    "plt.show()"
   ]
  },
  {
   "cell_type": "code",
   "execution_count": null,
   "id": "10432245",
   "metadata": {},
   "outputs": [],
   "source": []
  }
 ],
 "metadata": {
  "kernelspec": {
   "display_name": "Python 3",
   "language": "python",
   "name": "python3"
  },
  "language_info": {
   "codemirror_mode": {
    "name": "ipython",
    "version": 3
   },
   "file_extension": ".py",
   "mimetype": "text/x-python",
   "name": "python",
   "nbconvert_exporter": "python",
   "pygments_lexer": "ipython3",
   "version": "3.7.10"
  }
 },
 "nbformat": 4,
 "nbformat_minor": 5
}
