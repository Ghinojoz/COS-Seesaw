{
 "cells": [
  {
   "cell_type": "markdown",
   "id": "abade233",
   "metadata": {},
   "source": [
    "### Make required imports"
   ]
  },
  {
   "cell_type": "code",
   "execution_count": null,
   "id": "0df0249a",
   "metadata": {},
   "outputs": [],
   "source": [
    "import numpy as np\n",
    "import pandas as pd\n",
    "import matplotlib.pyplot as plt\n",
    "import warnings\n",
    "from sklearn.model_selection import train_test_split\n",
    "from interpret import show\n",
    "from interpret import data\n",
    "from interpret.glassbox import ExplainableBoostingRegressor, LinearRegression, RegressionTree\n",
    "from interpret.perf import RegressionPerf"
   ]
  },
  {
   "cell_type": "markdown",
   "id": "ecb6ae09",
   "metadata": {},
   "source": [
    "### Load dataframe and separate feature and target sets"
   ]
  },
  {
   "cell_type": "code",
   "execution_count": null,
   "id": "639763ba",
   "metadata": {},
   "outputs": [],
   "source": [
    "df = pd.read_pickle('COS_Seesaw_dataframe.pkl')\n",
    "print(df)\n",
    "columns = list(df.columns)\n",
    "if 'COS_JFJ' in columns:\n",
    "    columns.remove('COS_JFJ')\n",
    "else:\n",
    "    print('Error, target column not in dataframe')\n",
    "    quit()\n",
    "\n",
    "if 'time' in columns:\n",
    "    columns.remove('time')\n",
    "\n",
    "x = df[columns]\n",
    "y = df['COS_JFJ']"
   ]
  },
  {
   "cell_type": "markdown",
   "id": "ba31108a",
   "metadata": {},
   "source": [
    "### Make test train split, random seed is to ensure consistent results on multiple runs\n",
    "### change  seed value to get different split"
   ]
  },
  {
   "cell_type": "code",
   "execution_count": null,
   "id": "01709783",
   "metadata": {},
   "outputs": [],
   "source": [
    "seed = 1\n",
    "X_train, X_test, y_train, y_test = train_test_split(x, y, test_size=0.3, random_state=seed)\n",
    "\n",
    "print(len(X_train))\n",
    "print(len(y_train))\n",
    "\n",
    "print(len(X_test))\n",
    "print(len(y_test))"
   ]
  },
  {
   "cell_type": "markdown",
   "id": "a8b8fb19",
   "metadata": {},
   "source": [
    "### Show Marginal"
   ]
  },
  {
   "cell_type": "code",
   "execution_count": null,
   "id": "39e312ef",
   "metadata": {
    "scrolled": false
   },
   "outputs": [],
   "source": [
    "marginal = data.Marginal()\n",
    "marginal_explanation = marginal.explain_data(X_train, y_train)\n",
    "show(marginal_explanation)"
   ]
  },
  {
   "cell_type": "markdown",
   "id": "9114d30e",
   "metadata": {},
   "source": [
    "### Train Models"
   ]
  },
  {
   "cell_type": "code",
   "execution_count": null,
   "id": "d6444a06",
   "metadata": {},
   "outputs": [],
   "source": [
    "ebm = ExplainableBoostingRegressor(random_state=seed, interactions=3)\n",
    "ebm.fit(X_train, y_train)"
   ]
  },
  {
   "cell_type": "markdown",
   "id": "419baf84",
   "metadata": {},
   "source": [
    "### What model learned"
   ]
  },
  {
   "cell_type": "code",
   "execution_count": null,
   "id": "7a2a91e6",
   "metadata": {},
   "outputs": [],
   "source": [
    "ebm_global = ebm.explain_global(name='EBM')"
   ]
  },
  {
   "cell_type": "markdown",
   "id": "c8047c41",
   "metadata": {},
   "source": [
    "### Explanation of individul prediction"
   ]
  },
  {
   "cell_type": "code",
   "execution_count": null,
   "id": "574e3501",
   "metadata": {},
   "outputs": [],
   "source": [
    "ebm_local = ebm.explain_local(X_test, y_test, name='EBM')"
   ]
  },
  {
   "cell_type": "markdown",
   "id": "d381cf70",
   "metadata": {},
   "source": [
    "### Evaluate performance"
   ]
  },
  {
   "cell_type": "code",
   "execution_count": null,
   "id": "9022ccd0",
   "metadata": {},
   "outputs": [],
   "source": [
    "ebm_perf = RegressionPerf(ebm.predict).explain_perf(X_test, y_test, name='EBM')"
   ]
  },
  {
   "cell_type": "markdown",
   "id": "edf99a16",
   "metadata": {},
   "source": [
    "### Everything at once"
   ]
  },
  {
   "cell_type": "code",
   "execution_count": null,
   "id": "58656331",
   "metadata": {
    "scrolled": false
   },
   "outputs": [],
   "source": [
    "show([marginal_explanation, ebm_global, ebm_perf, ebm_local])"
   ]
  },
  {
   "cell_type": "code",
   "execution_count": null,
   "id": "e86368e7",
   "metadata": {},
   "outputs": [],
   "source": []
  }
 ],
 "metadata": {
  "kernelspec": {
   "display_name": "Python 3",
   "language": "python",
   "name": "python3"
  },
  "language_info": {
   "codemirror_mode": {
    "name": "ipython",
    "version": 3
   },
   "file_extension": ".py",
   "mimetype": "text/x-python",
   "name": "python",
   "nbconvert_exporter": "python",
   "pygments_lexer": "ipython3",
   "version": "3.7.10"
  }
 },
 "nbformat": 4,
 "nbformat_minor": 5
}
