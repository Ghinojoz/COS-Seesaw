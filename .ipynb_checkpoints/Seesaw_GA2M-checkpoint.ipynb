{
 "cells": [
  {
   "cell_type": "markdown",
   "id": "abade233",
   "metadata": {},
   "source": [
    "### Make required imports"
   ]
  },
  {
   "cell_type": "code",
   "execution_count": 1,
   "id": "0df0249a",
   "metadata": {},
   "outputs": [],
   "source": [
    "import numpy as np\n",
    "import pandas as pd\n",
    "import matplotlib.pyplot as plt\n",
    "import warnings\n",
    "from sklearn.model_selection import train_test_split\n",
    "from interpret import show\n",
    "from interpret import data\n",
    "from interpret.glassbox import ExplainableBoostingRegressor, LinearRegression, RegressionTree\n",
    "from interpret.perf import RegressionPerf"
   ]
  },
  {
   "cell_type": "markdown",
   "id": "ecb6ae09",
   "metadata": {},
   "source": [
    "### Load dataframe and separate feature and target sets"
   ]
  },
  {
   "cell_type": "code",
   "execution_count": 2,
   "id": "639763ba",
   "metadata": {},
   "outputs": [
    {
     "name": "stdout",
     "output_type": "stream",
     "text": [
      "           time  COS_JFJ     NH_sst     SH_sst  NH_sst-2m  SH_sst-2m\n",
      "21   2000-03-02   447.77  11.830271  15.141506  12.369363  14.211244\n",
      "22   2000-03-05   454.99  11.848338  15.112172  12.336472  14.296056\n",
      "23   2000-03-06   450.81  11.855376  15.101149  12.321572  14.329835\n",
      "24   2000-03-07   453.45  11.858768  15.081848  12.305551  14.371146\n",
      "25   2000-03-11   451.90  11.862728  15.062534  12.221418  14.517519\n",
      "...         ...      ...        ...        ...        ...        ...\n",
      "1885 2018-09-26   437.56  15.888455  12.344624  15.698779  12.490609\n",
      "1886 2018-09-27   438.04  15.837394  12.360606  15.747860  12.488142\n",
      "1887 2018-09-28   433.50  15.800682  12.368045  15.801668  12.480263\n",
      "1888 2018-09-29   443.24  15.764831  12.371663  15.844060  12.468072\n",
      "1889 2018-09-30   437.52  15.745292  12.375092  15.878586  12.461205\n",
      "\n",
      "[1869 rows x 6 columns]\n"
     ]
    }
   ],
   "source": [
    "df = pd.read_pickle('COS_Seesaw_dataframe.pkl')\n",
    "print(df)\n",
    "columns = list(df.columns)\n",
    "if 'COS_JFJ' in columns:\n",
    "    columns.remove('COS_JFJ')\n",
    "else:\n",
    "    print('Error, target column not in dataframe')\n",
    "    quit()\n",
    "\n",
    "if 'time' in columns:\n",
    "    columns.remove('time')\n",
    "    \n",
    "x = df[columns]\n",
    "y = df['COS_JFJ']"
   ]
  },
  {
   "cell_type": "markdown",
   "id": "ba31108a",
   "metadata": {},
   "source": [
    "### Make test train split, random seed is to ensure consistent results on multiple runs\n",
    "### change  seed value to get different split"
   ]
  },
  {
   "cell_type": "code",
   "execution_count": 3,
   "id": "01709783",
   "metadata": {},
   "outputs": [
    {
     "name": "stdout",
     "output_type": "stream",
     "text": [
      "1308\n",
      "1308\n",
      "561\n",
      "561\n"
     ]
    }
   ],
   "source": [
    "seed = 1\n",
    "X_train, X_test, y_train, y_test = train_test_split(x, y, test_size=0.3, random_state=seed)\n",
    "\n",
    "print(len(X_train))\n",
    "print(len(y_train))\n",
    "\n",
    "print(len(X_test))\n",
    "print(len(y_test))"
   ]
  },
  {
   "cell_type": "markdown",
   "id": "a8b8fb19",
   "metadata": {},
   "source": [
    "### Show Marginal"
   ]
  },
  {
   "cell_type": "code",
   "execution_count": 4,
   "id": "39e312ef",
   "metadata": {
    "scrolled": false
   },
   "outputs": [
    {
     "data": {
      "text/html": [
       "<!-- http://127.0.0.1:7001/140223987912528/ -->\n",
       "<iframe src=\"http://127.0.0.1:7001/140223987912528/\" width=100% height=800 frameBorder=\"0\"></iframe>"
      ]
     },
     "metadata": {},
     "output_type": "display_data"
    }
   ],
   "source": [
    "marginal = data.Marginal()\n",
    "marginal_explanation = marginal.explain_data(X_train, y_train)\n",
    "show(marginal_explanation)"
   ]
  },
  {
   "cell_type": "markdown",
   "id": "9114d30e",
   "metadata": {},
   "source": [
    "### Train Models"
   ]
  },
  {
   "cell_type": "code",
   "execution_count": 5,
   "id": "d6444a06",
   "metadata": {},
   "outputs": [
    {
     "data": {
      "text/plain": [
       "<interpret.glassbox.decisiontree.RegressionTree at 0x7f8849727dd0>"
      ]
     },
     "execution_count": 5,
     "metadata": {},
     "output_type": "execute_result"
    }
   ],
   "source": [
    "ebm = ExplainableBoostingRegressor(random_state=seed, interactions=3)\n",
    "ebm.fit(X_train, y_train)\n",
    "\n",
    "lr = LinearRegression(random_state=seed)\n",
    "lr.fit(X_train, y_train)\n",
    "\n",
    "rt = RegressionTree(random_state=seed)\n",
    "rt.fit(X_train, y_train)"
   ]
  },
  {
   "cell_type": "markdown",
   "id": "419baf84",
   "metadata": {},
   "source": [
    "### What model learned"
   ]
  },
  {
   "cell_type": "code",
   "execution_count": 6,
   "id": "7a2a91e6",
   "metadata": {},
   "outputs": [],
   "source": [
    "ebm_global = ebm.explain_global(name='EBM')\n",
    "lr_global = lr.explain_global(name='Linear Regression')\n",
    "rt_global = rt.explain_global(name='Regression Tree')"
   ]
  },
  {
   "cell_type": "markdown",
   "id": "c8047c41",
   "metadata": {},
   "source": [
    "### Explanation of individul prediction"
   ]
  },
  {
   "cell_type": "code",
   "execution_count": 7,
   "id": "574e3501",
   "metadata": {},
   "outputs": [],
   "source": [
    "ebm_local = ebm.explain_local(X_test, y_test, name='EBM')\n",
    "lr_local = lr.explain_local(X_test, y_test, name='Linear Regression')\n",
    "rt_local = rt.explain_local(X_test, y_test, name='Regression Tree')"
   ]
  },
  {
   "cell_type": "markdown",
   "id": "d381cf70",
   "metadata": {},
   "source": [
    "### Evaluate performance"
   ]
  },
  {
   "cell_type": "code",
   "execution_count": 8,
   "id": "9022ccd0",
   "metadata": {},
   "outputs": [],
   "source": [
    "ebm_perf = RegressionPerf(ebm.predict).explain_perf(X_test, y_test, name='EBM')\n",
    "lr_perf = RegressionPerf(lr.predict).explain_perf(X_test, y_test, name='Linear Regression')\n",
    "rt_perf = RegressionPerf(rt.predict).explain_perf(X_test, y_test, name='Regression Tree')"
   ]
  },
  {
   "cell_type": "markdown",
   "id": "edf99a16",
   "metadata": {},
   "source": [
    "### Everything at once"
   ]
  },
  {
   "cell_type": "code",
   "execution_count": 9,
   "id": "58656331",
   "metadata": {
    "scrolled": false
   },
   "outputs": [
    {
     "data": {
      "text/html": [
       "<!-- http://127.0.0.1:7001/140223080110272/ -->\n",
       "<a href=\"http://127.0.0.1:7001/140223080110272/\" target=\"_new\">Open in new window</a><iframe src=\"http://127.0.0.1:7001/140223080110272/\" width=100% height=800 frameBorder=\"0\"></iframe>"
      ]
     },
     "metadata": {},
     "output_type": "display_data"
    }
   ],
   "source": [
    "show([marginal_explanation, lr_global, lr_perf, lr_local, rt_global, rt_perf, rt_local, ebm_global, ebm_perf, ebm_local])"
   ]
  },
  {
   "cell_type": "code",
   "execution_count": 23,
   "id": "e86368e7",
   "metadata": {},
   "outputs": [
    {
     "data": {
      "image/png": "[encoded data removed]",
      "text/plain": [
       "<Figure size 576x576 with 1 Axes>"
      ]
     },
     "metadata": {
      "needs_background": "light"
     },
     "output_type": "display_data"
    }
   ],
   "source": [
    "predicted = ebm.predict(X_test)\n",
    "fig, ax = plt.subplots(figsize=(8,8))\n",
    "ax.scatter(y_test, predicted, label='predicted vs. actual')\n",
    "ax.set_title(\"predicted vs. actual\")\n",
    "ax.set_xlabel(\"actual\")\n",
    "ax.set_ylabel(\"predicted\")\n",
    "ax.plot([0,1],[0,1], transform=ax.transAxes, ls='--', color='red')\n",
    "plt.legend()\n",
    "plt.show()\n",
    "fig.savefig('predictedVsActual.png')"
   ]
  },
  {
   "cell_type": "code",
   "execution_count": null,
   "id": "0fd4b8bc",
   "metadata": {},
   "outputs": [],
   "source": []
  }
 ],
 "metadata": {
  "kernelspec": {
   "display_name": "Python 3",
   "language": "python",
   "name": "python3"
  },
  "language_info": {
   "codemirror_mode": {
    "name": "ipython",
    "version": 3
   },
   "file_extension": ".py",
   "mimetype": "text/x-python",
   "name": "python",
   "nbconvert_exporter": "python",
   "pygments_lexer": "ipython3",
   "version": "3.7.10"
  }
 },
 "nbformat": 4,
 "nbformat_minor": 5
}
